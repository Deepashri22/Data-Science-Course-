{
  "nbformat": 4,
  "nbformat_minor": 0,
  "metadata": {
    "colab": {
      "provenance": []
    },
    "kernelspec": {
      "name": "python3",
      "display_name": "Python 3"
    },
    "language_info": {
      "name": "python"
    }
  },
  "cells": [
    {
      "cell_type": "code",
      "execution_count": null,
      "metadata": {
        "id": "ZOwMr_xZvFRS"
      },
      "outputs": [],
      "source": [
        "class pwskills: \n",
        "  def __init__(self, name, email): \n",
        "    self.name=name\n",
        "    self.email=email\n",
        "     \n",
        "  def student_details(self): \n",
        "    print(self.name, self.email) "
      ]
    },
    {
      "cell_type": "code",
      "source": [
        "pw= pwskills('mohan', 'mohan@gmail.com') "
      ],
      "metadata": {
        "id": "mfR_w-TQYOwl"
      },
      "execution_count": null,
      "outputs": []
    },
    {
      "cell_type": "code",
      "source": [
        "pw.name"
      ],
      "metadata": {
        "colab": {
          "base_uri": "https://localhost:8080/",
          "height": 35
        },
        "id": "oumkt7naYXVz",
        "outputId": "6278d2c0-0ce0-4432-970d-6f69fbbd4a3d"
      },
      "execution_count": null,
      "outputs": [
        {
          "output_type": "execute_result",
          "data": {
            "text/plain": [
              "'mohan'"
            ],
            "application/vnd.google.colaboratory.intrinsic+json": {
              "type": "string"
            }
          },
          "metadata": {},
          "execution_count": 4
        }
      ]
    },
    {
      "cell_type": "code",
      "source": [
        "pw.email"
      ],
      "metadata": {
        "colab": {
          "base_uri": "https://localhost:8080/",
          "height": 35
        },
        "id": "EicWMXLEYcG7",
        "outputId": "a318e6a1-9019-4800-f76b-74a4611ab295"
      },
      "execution_count": null,
      "outputs": [
        {
          "output_type": "execute_result",
          "data": {
            "text/plain": [
              "'mohan@gmail.com'"
            ],
            "application/vnd.google.colaboratory.intrinsic+json": {
              "type": "string"
            }
          },
          "metadata": {},
          "execution_count": 5
        }
      ]
    },
    {
      "cell_type": "code",
      "source": [
        "pw.student_details()"
      ],
      "metadata": {
        "colab": {
          "base_uri": "https://localhost:8080/"
        },
        "id": "vBqlVUwAYgGQ",
        "outputId": "1b5b2aed-c6d0-4f31-80e1-a58de664dc11"
      },
      "execution_count": null,
      "outputs": [
        {
          "output_type": "stream",
          "name": "stdout",
          "text": [
            "mohan mohan@gmail.com\n"
          ]
        }
      ]
    },
    {
      "cell_type": "code",
      "source": [
        "#we can overload an inner function in a class with the help of class methods\n",
        "#direct overloading not possible in python"
      ],
      "metadata": {
        "id": "vjtXuSlRYlP6"
      },
      "execution_count": null,
      "outputs": []
    },
    {
      "cell_type": "code",
      "source": [
        "class pwskills1: \n",
        "  def __init__(self, name, email): \n",
        "    self.name=name\n",
        "    self.email=email\n",
        "\n",
        "  @classmethod #already available in python, no need to make it\n",
        "  def details(cls, name, email): #when using 'cls' we do not need to create an object, we can pass data here without creating an object\n",
        "    return cls(name,email) \n",
        "     \n",
        "  def student_details(self): \n",
        "    print(self.name, self.email) "
      ],
      "metadata": {
        "id": "7H9L0so2Y0O1"
      },
      "execution_count": 1,
      "outputs": []
    },
    {
      "cell_type": "code",
      "source": [],
      "metadata": {
        "id": "oa5cBS4yFN8P"
      },
      "execution_count": null,
      "outputs": []
    },
    {
      "cell_type": "code",
      "source": [
        "pwskills1.details('deepu','deep@gmail.com') #data gets passed to the class, 'cls' is a pointer "
      ],
      "metadata": {
        "colab": {
          "base_uri": "https://localhost:8080/"
        },
        "id": "gkK2CLD6A5bJ",
        "outputId": "ff58d2c8-9b9c-4652-d210-6678c90c5e92"
      },
      "execution_count": 4,
      "outputs": [
        {
          "output_type": "execute_result",
          "data": {
            "text/plain": [
              "<__main__.pwskills1 at 0x7fc0033da280>"
            ]
          },
          "metadata": {},
          "execution_count": 4
        }
      ]
    },
    {
      "cell_type": "code",
      "source": [
        "#we have overloaded the __init__ method and then still it is working because of the 'class method'. we are not suppossed to create an object\n",
        "#we can pass data through the class method which is an inbuilt decorator \n",
        "#we can also use the passed data in any other class function created in it \n",
        "#without __init__ we can use class methods and data can be passed"
      ],
      "metadata": {
        "id": "JwiFniumBjle"
      },
      "execution_count": 5,
      "outputs": []
    },
    {
      "cell_type": "code",
      "source": [
        "pw1=pwskills1.details('deepu','deep@gmail.com')"
      ],
      "metadata": {
        "id": "bRFFNcgYCblB"
      },
      "execution_count": 6,
      "outputs": []
    },
    {
      "cell_type": "code",
      "source": [
        "pw1.name"
      ],
      "metadata": {
        "colab": {
          "base_uri": "https://localhost:8080/",
          "height": 35
        },
        "id": "KFun25esCfl8",
        "outputId": "9f4d15ae-cd5c-45b9-abd3-ee68c11c104c"
      },
      "execution_count": 8,
      "outputs": [
        {
          "output_type": "execute_result",
          "data": {
            "text/plain": [
              "'deepu'"
            ],
            "application/vnd.google.colaboratory.intrinsic+json": {
              "type": "string"
            }
          },
          "metadata": {},
          "execution_count": 8
        }
      ]
    },
    {
      "cell_type": "code",
      "source": [
        "pw1.email"
      ],
      "metadata": {
        "colab": {
          "base_uri": "https://localhost:8080/",
          "height": 35
        },
        "id": "qQh9QnbrCmzS",
        "outputId": "2bed53d6-a63c-436e-85f6-f743cbb24329"
      },
      "execution_count": 9,
      "outputs": [
        {
          "output_type": "execute_result",
          "data": {
            "text/plain": [
              "'deep@gmail.com'"
            ],
            "application/vnd.google.colaboratory.intrinsic+json": {
              "type": "string"
            }
          },
          "metadata": {},
          "execution_count": 9
        }
      ]
    },
    {
      "cell_type": "code",
      "source": [
        "class pride:\n",
        "\n",
        "  mobile_number= 928492364 #directly available to class, a class variable  \n",
        "  def __init__(self, name, email): \n",
        "    self.name=name\n",
        "    self.email=email\n",
        "\n",
        "  @classmethod\n",
        "  def change_number(cls,mobile): \n",
        "    pride.mobile_number= mobile #because of classmethod, we do not have to create an object to pass data, it can be passed directly\n",
        "\n",
        "  @classmethod #already available in python, no need to make it\n",
        "  def details(cls, name, email): #when using 'cls' we do not need to create an object, we can pass data here without creating an object\n",
        "    return cls(name,email) \n",
        "     \n",
        "  def student_details(self): \n",
        "    print(self.name, self.email, pride.mobile_number) "
      ],
      "metadata": {
        "id": "qlzf5vVpFPm2"
      },
      "execution_count": 10,
      "outputs": []
    },
    {
      "cell_type": "code",
      "source": [
        "obj= pride('deep','deep@gmailcom')"
      ],
      "metadata": {
        "id": "C7o83tHzn_wx"
      },
      "execution_count": 11,
      "outputs": []
    },
    {
      "cell_type": "code",
      "source": [
        "obj.student_details()"
      ],
      "metadata": {
        "colab": {
          "base_uri": "https://localhost:8080/"
        },
        "id": "RfLvWDqAoGak",
        "outputId": "f33a7810-2d67-45a0-cb0c-5f49a08d75c1"
      },
      "execution_count": 14,
      "outputs": [
        {
          "output_type": "stream",
          "name": "stdout",
          "text": [
            "deep deep@gmailcom 928492364\n"
          ]
        }
      ]
    },
    {
      "cell_type": "code",
      "source": [
        "obj2=pride.details('rohan','rohan@gmail.com')"
      ],
      "metadata": {
        "id": "JgNicIVcoTTj"
      },
      "execution_count": 15,
      "outputs": []
    },
    {
      "cell_type": "code",
      "source": [
        "obj2.student_details() #the classmethod can not only access its own function's data, but also other function's data in the same class"
      ],
      "metadata": {
        "colab": {
          "base_uri": "https://localhost:8080/"
        },
        "id": "n_t_fpnHotgq",
        "outputId": "fc6f67a5-1420-4170-ae62-7c718c2d004f"
      },
      "execution_count": 19,
      "outputs": [
        {
          "output_type": "stream",
          "name": "stdout",
          "text": [
            "rohan rohan@gmail.com 928492364\n"
          ]
        }
      ]
    },
    {
      "cell_type": "code",
      "source": [
        "pride.mobile_number"
      ],
      "metadata": {
        "colab": {
          "base_uri": "https://localhost:8080/"
        },
        "id": "vzgKe1pFloBX",
        "outputId": "be12b097-ff29-4266-aeb7-6237e3b489b6"
      },
      "execution_count": 4,
      "outputs": [
        {
          "output_type": "execute_result",
          "data": {
            "text/plain": [
              "928492364"
            ]
          },
          "metadata": {},
          "execution_count": 4
        }
      ]
    },
    {
      "cell_type": "code",
      "source": [
        "pride.change_number(6789836523) #changed the value of the mobile number...classname.func_definiton"
      ],
      "metadata": {
        "id": "vXLP8wNolsSy"
      },
      "execution_count": 7,
      "outputs": []
    },
    {
      "cell_type": "code",
      "source": [
        "pride.mobile_number "
      ],
      "metadata": {
        "colab": {
          "base_uri": "https://localhost:8080/"
        },
        "id": "xf8kVWD6nElu",
        "outputId": "bb95f6e8-dd2f-4968-fa12-9e4a6848e9d9"
      },
      "execution_count": 9,
      "outputs": [
        {
          "output_type": "execute_result",
          "data": {
            "text/plain": [
              "6789836523"
            ]
          },
          "metadata": {},
          "execution_count": 9
        }
      ]
    },
    {
      "cell_type": "code",
      "source": [
        "class pride2:\n",
        "\n",
        "  mobile_number= 928492364 #directly available to class, a class variable  \n",
        "  def __init__(self, name, email): \n",
        "    self.name=name\n",
        "    self.email=email\n",
        "\n",
        "  @classmethod\n",
        "  def change_number(cls,mobile): \n",
        "    pride.mobile_number= mobile #because of classmethod, we do not have to create an object to pass data, it can be passed directly\n",
        "\n",
        "  @classmethod #already available in python, no need to make it\n",
        "  def details(cls, name, email): #when using 'cls' we do not need to create an object, we can pass data here without creating an object\n",
        "    return cls(name,email) \n",
        "     \n",
        "  def student_details(self): \n",
        "    print(self.name, self.email, pride.mobile_number) "
      ],
      "metadata": {
        "id": "HZ0KHaH9nR7k"
      },
      "execution_count": 20,
      "outputs": []
    },
    {
      "cell_type": "code",
      "source": [
        "def course_details(cls, course_name): \n",
        "  print('course name is',course_name) #external function"
      ],
      "metadata": {
        "id": "4jCwplIzpZR-"
      },
      "execution_count": 22,
      "outputs": []
    },
    {
      "cell_type": "code",
      "source": [],
      "metadata": {
        "id": "_LOcTfyjpmF-"
      },
      "execution_count": null,
      "outputs": []
    },
    {
      "cell_type": "markdown",
      "source": [
        "how to involve external function into a class method? "
      ],
      "metadata": {
        "id": "yGTiG5Stpn9N"
      }
    },
    {
      "cell_type": "code",
      "source": [
        "pride2.course_details= classmethod(course_details) #classmethod is also available as an external inbuilt function"
      ],
      "metadata": {
        "id": "g_tVKFgQpsOc"
      },
      "execution_count": 24,
      "outputs": []
    },
    {
      "cell_type": "code",
      "source": [
        "pride2.course_details"
      ],
      "metadata": {
        "colab": {
          "base_uri": "https://localhost:8080/"
        },
        "id": "HZycanL9qfPu",
        "outputId": "36605c2c-426c-44f3-ca6f-01ac93a6a1ab"
      },
      "execution_count": 25,
      "outputs": [
        {
          "output_type": "execute_result",
          "data": {
            "text/plain": [
              "<bound method course_details of <class '__main__.pride2'>>"
            ]
          },
          "metadata": {},
          "execution_count": 25
        }
      ]
    },
    {
      "cell_type": "code",
      "source": [
        "pride2.course_details('cpp')"
      ],
      "metadata": {
        "colab": {
          "base_uri": "https://localhost:8080/"
        },
        "id": "UEt1zmApqh-a",
        "outputId": "e864a8f5-1481-4c96-8b5e-fd39bb57ff97"
      },
      "execution_count": 26,
      "outputs": [
        {
          "output_type": "stream",
          "name": "stdout",
          "text": [
            "course name is cpp\n"
          ]
        }
      ]
    },
    {
      "cell_type": "code",
      "source": [
        "def mentor(cls,list_of_mentor): \n",
        "  print(list_of_mentor)"
      ],
      "metadata": {
        "id": "HYibxt3gq9Ls"
      },
      "execution_count": 27,
      "outputs": []
    },
    {
      "cell_type": "code",
      "source": [
        "pride2.mentor= classmethod(mentor)"
      ],
      "metadata": {
        "id": "HOTswRENrFN4"
      },
      "execution_count": 28,
      "outputs": []
    },
    {
      "cell_type": "code",
      "source": [
        "pride2.mentor"
      ],
      "metadata": {
        "colab": {
          "base_uri": "https://localhost:8080/"
        },
        "id": "O38J1dekrMs_",
        "outputId": "856987e7-73dd-47f8-cb51-ce10ec70b39c"
      },
      "execution_count": 29,
      "outputs": [
        {
          "output_type": "execute_result",
          "data": {
            "text/plain": [
              "<bound method mentor of <class '__main__.pride2'>>"
            ]
          },
          "metadata": {},
          "execution_count": 29
        }
      ]
    },
    {
      "cell_type": "code",
      "source": [
        "pride2.mentor(['deep','ashwini'])"
      ],
      "metadata": {
        "colab": {
          "base_uri": "https://localhost:8080/"
        },
        "id": "wOdyv5t7rb1W",
        "outputId": "0a9770b6-7ae0-46aa-f10e-a76fc127b538"
      },
      "execution_count": 30,
      "outputs": [
        {
          "output_type": "stream",
          "name": "stdout",
          "text": [
            "['deep', 'ashwini']\n"
          ]
        }
      ]
    },
    {
      "cell_type": "code",
      "source": [
        "class pride3:\n",
        "\n",
        "  mobile_number= 928492364 #directly available to class, a class variable  \n",
        "  def __init__(self, name, email): \n",
        "    self.name=name\n",
        "    self.email=email\n",
        "\n",
        "  @classmethod\n",
        "  def change_number(cls,mobile): \n",
        "    pride.mobile_number= mobile #because of classmethod, we do not have to create an object to pass data, it can be passed directly\n",
        "\n",
        "  @classmethod #already available in python, no need to make it\n",
        "  def details(cls, name, email): #when using 'cls' we do not need to create an object, we can pass data here without creating an object\n",
        "    return cls(name,email) \n",
        "     \n",
        "  def student_details(self): \n",
        "    print(self.name, self.email, pride.mobile_number) "
      ],
      "metadata": {
        "id": "WSt6UgxErgt_"
      },
      "execution_count": 31,
      "outputs": []
    },
    {
      "cell_type": "markdown",
      "source": [
        "how to delete a function in a class? "
      ],
      "metadata": {
        "id": "WY0tXXyhr0DQ"
      }
    },
    {
      "cell_type": "code",
      "source": [
        "del pride3.change_number"
      ],
      "metadata": {
        "id": "AOf3fqKEr2jr"
      },
      "execution_count": 32,
      "outputs": []
    },
    {
      "cell_type": "code",
      "source": [
        "pride3.change_number"
      ],
      "metadata": {
        "colab": {
          "base_uri": "https://localhost:8080/",
          "height": 166
        },
        "id": "5v6F_-o5r8Re",
        "outputId": "a3a49f19-eb22-4e00-ce3a-3650341ea88e"
      },
      "execution_count": 33,
      "outputs": [
        {
          "output_type": "error",
          "ename": "AttributeError",
          "evalue": "ignored",
          "traceback": [
            "\u001b[0;31m---------------------------------------------------------------------------\u001b[0m",
            "\u001b[0;31mAttributeError\u001b[0m                            Traceback (most recent call last)",
            "\u001b[0;32m<ipython-input-33-d2d6e0068652>\u001b[0m in \u001b[0;36m<module>\u001b[0;34m\u001b[0m\n\u001b[0;32m----> 1\u001b[0;31m \u001b[0mpride3\u001b[0m\u001b[0;34m.\u001b[0m\u001b[0mchange_number\u001b[0m\u001b[0;34m\u001b[0m\u001b[0;34m\u001b[0m\u001b[0m\n\u001b[0m",
            "\u001b[0;31mAttributeError\u001b[0m: type object 'pride3' has no attribute 'change_number'"
          ]
        }
      ]
    },
    {
      "cell_type": "code",
      "source": [
        "delattr(pride2, 'details') #another way to delete a function: delattr(classname, 'function in string')"
      ],
      "metadata": {
        "id": "67zKLznlr_ZN"
      },
      "execution_count": 37,
      "outputs": []
    },
    {
      "cell_type": "code",
      "source": [
        "delattr(pride2, 'student_details') "
      ],
      "metadata": {
        "colab": {
          "base_uri": "https://localhost:8080/",
          "height": 166
        },
        "id": "otSD60j_sbCH",
        "outputId": "3cdd56da-3dca-4f07-be47-f68c0bcf3c0f"
      },
      "execution_count": 40,
      "outputs": [
        {
          "output_type": "error",
          "ename": "AttributeError",
          "evalue": "ignored",
          "traceback": [
            "\u001b[0;31m---------------------------------------------------------------------------\u001b[0m",
            "\u001b[0;31mAttributeError\u001b[0m                            Traceback (most recent call last)",
            "\u001b[0;32m<ipython-input-40-2d1eae12baa0>\u001b[0m in \u001b[0;36m<module>\u001b[0;34m\u001b[0m\n\u001b[0;32m----> 1\u001b[0;31m \u001b[0mdelattr\u001b[0m\u001b[0;34m(\u001b[0m\u001b[0mpride2\u001b[0m\u001b[0;34m,\u001b[0m \u001b[0;34m'student_details'\u001b[0m\u001b[0;34m)\u001b[0m\u001b[0;34m\u001b[0m\u001b[0;34m\u001b[0m\u001b[0m\n\u001b[0m",
            "\u001b[0;31mAttributeError\u001b[0m: student_details"
          ]
        }
      ]
    },
    {
      "cell_type": "code",
      "source": [
        "delattr(pride2, 'mobile_number')"
      ],
      "metadata": {
        "id": "U1mCl0BNstP1"
      },
      "execution_count": 41,
      "outputs": []
    },
    {
      "cell_type": "code",
      "source": [
        "#delattr() can also delete functions without classmethod and class variabels"
      ],
      "metadata": {
        "id": "m2-_RuNXs6IC"
      },
      "execution_count": 42,
      "outputs": []
    }
  ]
}