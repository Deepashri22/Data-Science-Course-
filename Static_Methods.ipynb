{
  "nbformat": 4,
  "nbformat_minor": 0,
  "metadata": {
    "colab": {
      "provenance": []
    },
    "kernelspec": {
      "name": "python3",
      "display_name": "Python 3"
    },
    "language_info": {
      "name": "python"
    }
  },
  "cells": [
    {
      "cell_type": "code",
      "execution_count": 1,
      "metadata": {
        "id": "2zu3tPbOfEBk"
      },
      "outputs": [],
      "source": [
        "class pride: \n",
        "\n",
        "  def student_details(self, name, mail_id, phone_num):\n",
        "    print(name, mail_id,phone_num) \n",
        "     \n",
        "\n"
      ]
    },
    {
      "cell_type": "code",
      "source": [],
      "metadata": {
        "id": "GnWzmc4blzL2"
      },
      "execution_count": null,
      "outputs": []
    },
    {
      "cell_type": "code",
      "source": [
        "ab= pride()"
      ],
      "metadata": {
        "id": "gTghqCRxlO7w"
      },
      "execution_count": 2,
      "outputs": []
    },
    {
      "cell_type": "code",
      "source": [
        "ab.student_details('deep','deep@gmail.com',82374887) "
      ],
      "metadata": {
        "colab": {
          "base_uri": "https://localhost:8080/"
        },
        "id": "1NRCQoY2lSgq",
        "outputId": "102f6322-6743-4fbc-d8a9-013a7da7121a"
      },
      "execution_count": 3,
      "outputs": [
        {
          "output_type": "stream",
          "name": "stdout",
          "text": [
            "deep deep@gmail.com 82374887\n"
          ]
        }
      ]
    },
    {
      "cell_type": "code",
      "source": [
        "class pride1: \n",
        "\n",
        "  def student_details(self, name, mail_id, phone_num):\n",
        "    print(name, mail_id,phone_num) \n",
        "\n",
        "  @staticmethod\n",
        "  def mentor_class(list_of_mentor): \n",
        "    print(list_of_mentor) \n",
        "\n",
        "  def mentor(self, mentor_list): \n",
        "    print(mentor_list)\n",
        "     "
      ],
      "metadata": {
        "id": "5hoZ8UZalz9e"
      },
      "execution_count": 7,
      "outputs": []
    },
    {
      "cell_type": "code",
      "source": [
        "pride1.mentor_class(['deep','rishiks','tinku'])"
      ],
      "metadata": {
        "colab": {
          "base_uri": "https://localhost:8080/"
        },
        "id": "VMSvJdd5mNcs",
        "outputId": "e913e415-513e-4417-ec61-f1879f86cc15"
      },
      "execution_count": 5,
      "outputs": [
        {
          "output_type": "stream",
          "name": "stdout",
          "text": [
            "['deep', 'rishiks', 'tinku']\n"
          ]
        }
      ]
    },
    {
      "cell_type": "code",
      "source": [
        "#static methods are used for utility functions\n",
        "#can pass data without creating objects\n",
        "#static methods arent associated with the class instance \n",
        "#utility funcitons- which we call multiple time\n",
        "#the student_details function gets created the many times as many it is being called, whereas static functions do nto repeat the instance \n",
        "#the mentor function gets created for every student present in the record \n",
        "#if we enter the mentor for student1, we will have to create it again for student2, which is not a good way for reusability\n",
        "#static method helps when the reusability of the function is extremely high\n",
        "#memory consumption gets reduced due to static methods\n",
        "#static methods are a better idea for repetative functions "
      ],
      "metadata": {
        "id": "duU4kn1fmVz3"
      },
      "execution_count": 9,
      "outputs": []
    },
    {
      "cell_type": "markdown",
      "source": [
        "how to use a static method for a classs method and for an instance method"
      ],
      "metadata": {
        "id": "iRmLinfMrgSm"
      }
    },
    {
      "cell_type": "code",
      "source": [
        "class pride2: \n",
        "\n",
        "  def student_details(self, name, mail_id, phone_num):\n",
        "    print(name, mail_id,phone_num) \n",
        "\n",
        "  @staticmethod\n",
        "  def mentor_mailid(mailid_mentor): \n",
        "    print(mailid_mentor) \n",
        "\n",
        "  @staticmethod\n",
        "  def mentor_class(list_of_mentor): \n",
        "    pride2.mentor_mailid(['sudha.com','meera.com']) #static method inside a static method: classname.staticmethod_name(parameter)\n",
        "    print(list_of_mentor) \n",
        "\n",
        "  @classmethod\n",
        "  def class_name(cls):\n",
        "    #we can invoke a static method anywhere with a class name, bcoz it is related to it \n",
        "    cls.mentor_class(['sudha','meera'])\n",
        "\n",
        "   #static method in an instance method\n",
        "  def mentor(self, mentor_list): \n",
        "    print(mentor_list)\n",
        "    self.mentor_class(['ila','pila'])"
      ],
      "metadata": {
        "id": "R6uwHeahrRmi"
      },
      "execution_count": 22,
      "outputs": []
    },
    {
      "cell_type": "code",
      "source": [
        "xy= pride2()"
      ],
      "metadata": {
        "id": "UbvTEL2JttZv"
      },
      "execution_count": 23,
      "outputs": []
    },
    {
      "cell_type": "code",
      "source": [
        "xy.mentor(['tuna','sina'])"
      ],
      "metadata": {
        "colab": {
          "base_uri": "https://localhost:8080/"
        },
        "id": "b5D_A1oltxjy",
        "outputId": "63b49d65-6590-44d8-9bfb-ddd43ad82330"
      },
      "execution_count": 24,
      "outputs": [
        {
          "output_type": "stream",
          "name": "stdout",
          "text": [
            "['tuna', 'sina']\n",
            "['sudha.com', 'meera.com']\n",
            "['ila', 'pila']\n"
          ]
        }
      ]
    },
    {
      "cell_type": "code",
      "source": [
        "pride2.class_name()"
      ],
      "metadata": {
        "colab": {
          "base_uri": "https://localhost:8080/"
        },
        "id": "U5xn2l7msDFL",
        "outputId": "5ee8dbea-bf68-4f2c-c535-66f14239e81e"
      },
      "execution_count": 14,
      "outputs": [
        {
          "output_type": "stream",
          "name": "stdout",
          "text": [
            "['sudha', 'meera']\n"
          ]
        }
      ]
    },
    {
      "cell_type": "code",
      "source": [
        "pride2.mentor_class(['tingu','pingu'])"
      ],
      "metadata": {
        "colab": {
          "base_uri": "https://localhost:8080/"
        },
        "id": "linC_YWosMnP",
        "outputId": "f22676bf-cc60-4d57-95d6-9e536f1985a2"
      },
      "execution_count": 21,
      "outputs": [
        {
          "output_type": "stream",
          "name": "stdout",
          "text": [
            "['sudha.com', 'meera.com']\n",
            "['tingu', 'pingu']\n"
          ]
        }
      ]
    },
    {
      "cell_type": "markdown",
      "source": [
        "memory optimization is achieved through static methods "
      ],
      "metadata": {
        "id": "xkurh48UuPFY"
      }
    }
  ]
}