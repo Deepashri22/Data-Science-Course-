{
  "nbformat": 4,
  "nbformat_minor": 0,
  "metadata": {
    "colab": {
      "provenance": []
    },
    "kernelspec": {
      "name": "python3",
      "display_name": "Python 3"
    },
    "language_info": {
      "name": "python"
    }
  },
  "cells": [
    {
      "cell_type": "code",
      "execution_count": 2,
      "metadata": {
        "id": "dYWWN9KmC3Kj"
      },
      "outputs": [],
      "source": [
        "data={\n",
        "    'name':'deepu',\n",
        "    'mail_id':'deep@gmail.com',\n",
        "    'phone_no':'454567567',\n",
        "    'subject': ['data science','big data','data analytics'] \n",
        "} #json: javs script object notation data type in key value pair "
      ]
    },
    {
      "cell_type": "code",
      "source": [
        "import json "
      ],
      "metadata": {
        "id": "bM8CAASJH_xA"
      },
      "execution_count": 3,
      "outputs": []
    },
    {
      "cell_type": "code",
      "source": [
        "with open ('data.json','w') as f: \n",
        "  json.dump(data,f) #dump helps in writing data "
      ],
      "metadata": {
        "id": "vpZOA8IAIC1q"
      },
      "execution_count": 4,
      "outputs": []
    },
    {
      "cell_type": "code",
      "source": [
        "#whenever there is key and value pair in data we write it with json format or file type "
      ],
      "metadata": {
        "id": "EonVmVM5ISG3"
      },
      "execution_count": 5,
      "outputs": []
    },
    {
      "cell_type": "code",
      "source": [
        "with open ('data.json','r') as f: \n",
        "  data1= json.load(f) #load helps in reading the data"
      ],
      "metadata": {
        "id": "TlxtTsvGIi6H"
      },
      "execution_count": 7,
      "outputs": []
    },
    {
      "cell_type": "code",
      "source": [
        "data1"
      ],
      "metadata": {
        "colab": {
          "base_uri": "https://localhost:8080/"
        },
        "id": "g6DZVpBAI68z",
        "outputId": "c4056e38-527b-4211-85c1-16f832d04dc0"
      },
      "execution_count": 8,
      "outputs": [
        {
          "output_type": "execute_result",
          "data": {
            "text/plain": [
              "{'name': 'deepu',\n",
              " 'mail_id': 'deep@gmail.com',\n",
              " 'phone_no': '454567567',\n",
              " 'subject': ['data science', 'big data', 'data analytics']}"
            ]
          },
          "metadata": {},
          "execution_count": 8
        }
      ]
    },
    {
      "cell_type": "code",
      "source": [
        "data1['subject'][1]"
      ],
      "metadata": {
        "colab": {
          "base_uri": "https://localhost:8080/",
          "height": 35
        },
        "id": "LfNd_looI_ax",
        "outputId": "6070b650-45db-46ca-f67f-c65db11bafdf"
      },
      "execution_count": 10,
      "outputs": [
        {
          "output_type": "execute_result",
          "data": {
            "text/plain": [
              "'big data'"
            ],
            "application/vnd.google.colaboratory.intrinsic+json": {
              "type": "string"
            }
          },
          "metadata": {},
          "execution_count": 10
        }
      ]
    },
    {
      "cell_type": "code",
      "source": [
        "import csv "
      ],
      "metadata": {
        "id": "DMB0K9gzJGeC"
      },
      "execution_count": 11,
      "outputs": []
    },
    {
      "cell_type": "code",
      "source": [
        "data= [['name','email_id','phone_no'],\n",
        "       ['deep','deep@gmail.com','276876429384'],\n",
        "       ['krish','krish@gmail.com','36493492374']\n",
        "       ]"
      ],
      "metadata": {
        "id": "48LELrWmKkql"
      },
      "execution_count": 12,
      "outputs": []
    },
    {
      "cell_type": "code",
      "source": [
        "with open('data.csv','w') as f: \n",
        "  writer= csv.writer(f) \n",
        "  for i in data: \n",
        "    writer.writerow(i)"
      ],
      "metadata": {
        "id": "nnHGtSOFLDly"
      },
      "execution_count": 15,
      "outputs": []
    },
    {
      "cell_type": "code",
      "source": [
        "with open('data.csv','r') as f: \n",
        "  read_data= csv.reader(f)\n",
        "\n",
        "  for i in read_data: \n",
        "    print(i)"
      ],
      "metadata": {
        "colab": {
          "base_uri": "https://localhost:8080/"
        },
        "id": "oApjUmdQLdsy",
        "outputId": "d9183e9d-5b4a-438e-8502-4c3960c638e3"
      },
      "execution_count": 16,
      "outputs": [
        {
          "output_type": "stream",
          "name": "stdout",
          "text": [
            "['name', 'email_id', 'phone_no']\n",
            "['deep', 'deep@gmail.com', '276876429384']\n",
            "['krish', 'krish@gmail.com', '36493492374']\n"
          ]
        }
      ]
    },
    {
      "cell_type": "code",
      "source": [
        "#dealing with binary data"
      ],
      "metadata": {
        "id": "t46agDoML8nQ"
      },
      "execution_count": 17,
      "outputs": []
    },
    {
      "cell_type": "code",
      "source": [
        "with open('test4.bin','wb') as f: \n",
        "  f.write(b'\\x01\\x02\\x03')"
      ],
      "metadata": {
        "id": "c6LN-VdbMJWk"
      },
      "execution_count": 19,
      "outputs": []
    },
    {
      "cell_type": "code",
      "source": [
        "with open('test4.bin','rb') as f: \n",
        "  print(f.read())"
      ],
      "metadata": {
        "colab": {
          "base_uri": "https://localhost:8080/"
        },
        "id": "4Av-3GRENc6C",
        "outputId": "ecde11bd-802d-493c-cb3c-ff80319adc51"
      },
      "execution_count": 20,
      "outputs": [
        {
          "output_type": "stream",
          "name": "stdout",
          "text": [
            "b'\\x01\\x02\\x03'\n"
          ]
        }
      ]
    }
  ]
}