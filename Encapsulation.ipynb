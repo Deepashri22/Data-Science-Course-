{
  "nbformat": 4,
  "nbformat_minor": 0,
  "metadata": {
    "colab": {
      "provenance": []
    },
    "kernelspec": {
      "name": "python3",
      "display_name": "Python 3"
    },
    "language_info": {
      "name": "python"
    }
  },
  "cells": [
    {
      "cell_type": "code",
      "execution_count": 1,
      "metadata": {
        "id": "FO9idMFuliW4"
      },
      "outputs": [],
      "source": [
        "class test: \n",
        "\n",
        "  def __init__(self, a,b ): \n",
        "    self.a=a\n",
        "    self.b =b\n",
        "    "
      ]
    },
    {
      "cell_type": "code",
      "source": [
        "t=test(23,34) #we have set this value from our side "
      ],
      "metadata": {
        "id": "by7fOXigpLgS"
      },
      "execution_count": 3,
      "outputs": []
    },
    {
      "cell_type": "code",
      "source": [
        "t.a=77237462874"
      ],
      "metadata": {
        "id": "oxmuTBXgpk3X"
      },
      "execution_count": 4,
      "outputs": []
    },
    {
      "cell_type": "code",
      "source": [
        "t.a"
      ],
      "metadata": {
        "colab": {
          "base_uri": "https://localhost:8080/"
        },
        "id": "noCPejoHpnK6",
        "outputId": "9e73d980-fb29-4abb-92ce-68280ffbf3fd"
      },
      "execution_count": 5,
      "outputs": [
        {
          "output_type": "execute_result",
          "data": {
            "text/plain": [
              "77237462874"
            ]
          },
          "metadata": {},
          "execution_count": 5
        }
      ]
    },
    {
      "cell_type": "code",
      "source": [
        "#the user should not know what is the instance and thus should not be able to change it, hence we need privacy. \n",
        "#if it is not visible to the user they will not be able to modify it "
      ],
      "metadata": {
        "id": "5-5mc7CIprCk"
      },
      "execution_count": 7,
      "outputs": []
    },
    {
      "cell_type": "code",
      "source": [
        "#we encapsulate the data to maintain its privacy from the user. "
      ],
      "metadata": {
        "id": "pMw1X2p2p-HO"
      },
      "execution_count": 8,
      "outputs": []
    },
    {
      "cell_type": "code",
      "source": [
        "#we encapsulate the variables to hide its inner composition"
      ],
      "metadata": {
        "id": "P2eFGMJeqK1C"
      },
      "execution_count": 10,
      "outputs": []
    },
    {
      "cell_type": "code",
      "source": [
        "#how  to encapsulate? \n",
        "class car: \n",
        "\n",
        "  def __init__(self, year, make, model, speed): \n",
        "    self.__year= year #double underscore tells the compiler to encapsulate that particular thing from the user\n",
        "    self.__make= make\n",
        "    self.__model= model\n",
        "    self.__speed= 0 #if we do not enter speed this is the by default speed\n"
      ],
      "metadata": {
        "id": "n7GRd2njqUYZ"
      },
      "execution_count": 12,
      "outputs": []
    },
    {
      "cell_type": "code",
      "source": [
        "c= car(2021, 'toyota', 'innova', 12) "
      ],
      "metadata": {
        "id": "CqzAHtmo3Xal"
      },
      "execution_count": 14,
      "outputs": []
    },
    {
      "cell_type": "code",
      "source": [
        "c.year #encapsulated"
      ],
      "metadata": {
        "colab": {
          "base_uri": "https://localhost:8080/",
          "height": 166
        },
        "id": "ItUVNBcb4dfY",
        "outputId": "72486948-5a45-4085-b48e-a2a171b2d4e2"
      },
      "execution_count": 16,
      "outputs": [
        {
          "output_type": "error",
          "ename": "AttributeError",
          "evalue": "ignored",
          "traceback": [
            "\u001b[0;31m---------------------------------------------------------------------------\u001b[0m",
            "\u001b[0;31mAttributeError\u001b[0m                            Traceback (most recent call last)",
            "\u001b[0;32m<ipython-input-16-9578cec0c59c>\u001b[0m in \u001b[0;36m<module>\u001b[0;34m\u001b[0m\n\u001b[0;32m----> 1\u001b[0;31m \u001b[0mc\u001b[0m\u001b[0;34m.\u001b[0m\u001b[0myear\u001b[0m \u001b[0;31m#encapsulated\u001b[0m\u001b[0;34m\u001b[0m\u001b[0;34m\u001b[0m\u001b[0m\n\u001b[0m",
            "\u001b[0;31mAttributeError\u001b[0m: 'car' object has no attribute 'year'"
          ]
        }
      ]
    },
    {
      "cell_type": "code",
      "source": [
        "c.__year #encapsulated"
      ],
      "metadata": {
        "colab": {
          "base_uri": "https://localhost:8080/",
          "height": 166
        },
        "id": "huYxppiz4wFi",
        "outputId": "c3335201-4e9c-4a4b-8eb6-440b34b29c34"
      },
      "execution_count": 17,
      "outputs": [
        {
          "output_type": "error",
          "ename": "AttributeError",
          "evalue": "ignored",
          "traceback": [
            "\u001b[0;31m---------------------------------------------------------------------------\u001b[0m",
            "\u001b[0;31mAttributeError\u001b[0m                            Traceback (most recent call last)",
            "\u001b[0;32m<ipython-input-17-11ff0bbd98c2>\u001b[0m in \u001b[0;36m<module>\u001b[0;34m\u001b[0m\n\u001b[0;32m----> 1\u001b[0;31m \u001b[0mc\u001b[0m\u001b[0;34m.\u001b[0m\u001b[0m__year\u001b[0m \u001b[0;31m#encapsulated\u001b[0m\u001b[0;34m\u001b[0m\u001b[0;34m\u001b[0m\u001b[0m\n\u001b[0m",
            "\u001b[0;31mAttributeError\u001b[0m: 'car' object has no attribute '__year'"
          ]
        }
      ]
    },
    {
      "cell_type": "code",
      "source": [
        "c._car__year  #now can be accessed\n",
        "# format to access encapsulated thing: object._classname__variablename\n"
      ],
      "metadata": {
        "colab": {
          "base_uri": "https://localhost:8080/"
        },
        "id": "JlIWtE8540n1",
        "outputId": "9247b031-a5cd-4979-e931-cdb5d6dfc6c3"
      },
      "execution_count": 20,
      "outputs": [
        {
          "output_type": "execute_result",
          "data": {
            "text/plain": [
              "2021"
            ]
          },
          "metadata": {},
          "execution_count": 20
        }
      ]
    },
    {
      "cell_type": "code",
      "source": [
        "class car: \n",
        "\n",
        "  def __init__(self, year, make, model, speed): \n",
        "    self.__year= year #double underscore tells the compiler to encapsulate that particular thing from the user\n",
        "    self.__make= make\n",
        "    self.__model= model\n",
        "    self.__speed= 0\n",
        "\n",
        "  def speed(self, speed): #not a private function since there are no 2 underscores before set , can be accessed by user \n",
        "    self.__speed= 0 if speed<0 else speed #the initial self.__speed gets overwritten by this \n",
        "\n",
        "  def get_speed(self): \n",
        "    return self.__speed #the function gives you the speed \n"
      ],
      "metadata": {
        "id": "qxsrRfSF5EJm"
      },
      "execution_count": 21,
      "outputs": []
    },
    {
      "cell_type": "code",
      "source": [
        "c= car(2021, 'toyota', 'innova', 12) "
      ],
      "metadata": {
        "id": "fC4C0bBS6gRn"
      },
      "execution_count": 22,
      "outputs": []
    },
    {
      "cell_type": "code",
      "source": [
        "c.speed(-33243)"
      ],
      "metadata": {
        "id": "iJPnYRRX6u4F"
      },
      "execution_count": 24,
      "outputs": []
    },
    {
      "cell_type": "code",
      "source": [
        "c.get_speed() #since entered speed was negative "
      ],
      "metadata": {
        "colab": {
          "base_uri": "https://localhost:8080/"
        },
        "id": "GREsAAcD7Cq9",
        "outputId": "123b5488-ee1c-4280-8d12-06909810240a"
      },
      "execution_count": 26,
      "outputs": [
        {
          "output_type": "execute_result",
          "data": {
            "text/plain": [
              "0"
            ]
          },
          "metadata": {},
          "execution_count": 26
        }
      ]
    },
    {
      "cell_type": "code",
      "source": [
        "c.speed(36)"
      ],
      "metadata": {
        "id": "NO0G3IvF7KFW"
      },
      "execution_count": 27,
      "outputs": []
    },
    {
      "cell_type": "code",
      "source": [
        "c.get_speed()"
      ],
      "metadata": {
        "colab": {
          "base_uri": "https://localhost:8080/"
        },
        "id": "KF0OdYT-7UWm",
        "outputId": "7200cdb6-538d-4ce8-d732-553735be7dd7"
      },
      "execution_count": 28,
      "outputs": [
        {
          "output_type": "execute_result",
          "data": {
            "text/plain": [
              "36"
            ]
          },
          "metadata": {},
          "execution_count": 28
        }
      ]
    },
    {
      "cell_type": "code",
      "source": [
        "#we are not allowing the user to directly interact with our base data\n",
        "#the user has to work according the terms and conditions set up by us\n",
        "#composition hidden inside the capsule "
      ],
      "metadata": {
        "id": "8f7KBWvA7Xg7"
      },
      "execution_count": 30,
      "outputs": []
    },
    {
      "cell_type": "code",
      "source": [
        "class bank_account: \n",
        "\n",
        "  def __init__(self, balance):\n",
        "    self.__balance= balance \n",
        "\n",
        "  def deposit(self, amount):\n",
        "    self.__balance= self.__balance + amount \n",
        "\n",
        "  def withdraw(self, amount):\n",
        "    if self.__balance>= amount :\n",
        "      self.__balance= self.__balance - amount \n",
        "      return True \n",
        "    else: \n",
        "      return False \n",
        "\n",
        "  def get_balance(self ):\n",
        "    return self.__balance"
      ],
      "metadata": {
        "id": "Ki7_tFbU8U8a"
      },
      "execution_count": 31,
      "outputs": []
    },
    {
      "cell_type": "code",
      "source": [
        "deep = bank_account(1000)"
      ],
      "metadata": {
        "id": "0u0N9QwE9XDA"
      },
      "execution_count": 32,
      "outputs": []
    },
    {
      "cell_type": "code",
      "source": [
        "deep.get_balance()"
      ],
      "metadata": {
        "colab": {
          "base_uri": "https://localhost:8080/"
        },
        "id": "2aL5Ncfk9d5p",
        "outputId": "64a68756-323f-4a63-c32f-f3b09832062f"
      },
      "execution_count": 33,
      "outputs": [
        {
          "output_type": "execute_result",
          "data": {
            "text/plain": [
              "1000"
            ]
          },
          "metadata": {},
          "execution_count": 33
        }
      ]
    },
    {
      "cell_type": "code",
      "source": [
        "deep.deposit(5000)"
      ],
      "metadata": {
        "id": "BdPpK7MQ9rJS"
      },
      "execution_count": 34,
      "outputs": []
    },
    {
      "cell_type": "code",
      "source": [
        "deep.get_balance()"
      ],
      "metadata": {
        "colab": {
          "base_uri": "https://localhost:8080/"
        },
        "id": "HhzrF2tm9v-Y",
        "outputId": "e8ccdf9b-6cb6-4798-d6fc-317ec17ba68e"
      },
      "execution_count": 35,
      "outputs": [
        {
          "output_type": "execute_result",
          "data": {
            "text/plain": [
              "6000"
            ]
          },
          "metadata": {},
          "execution_count": 35
        }
      ]
    },
    {
      "cell_type": "code",
      "source": [
        "deep.withdraw(9000)"
      ],
      "metadata": {
        "colab": {
          "base_uri": "https://localhost:8080/"
        },
        "id": "Pxw8-8z-9z_n",
        "outputId": "ee7e361a-fe46-40b0-9fb9-abae3c14826b"
      },
      "execution_count": 36,
      "outputs": [
        {
          "output_type": "execute_result",
          "data": {
            "text/plain": [
              "False"
            ]
          },
          "metadata": {},
          "execution_count": 36
        }
      ]
    },
    {
      "cell_type": "code",
      "source": [],
      "metadata": {
        "id": "geRqPHZr-SZt"
      },
      "execution_count": null,
      "outputs": []
    }
  ]
}