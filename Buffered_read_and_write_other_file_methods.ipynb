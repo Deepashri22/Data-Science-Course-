{
  "nbformat": 4,
  "nbformat_minor": 0,
  "metadata": {
    "colab": {
      "provenance": []
    },
    "kernelspec": {
      "name": "python3",
      "display_name": "Python 3"
    },
    "language_info": {
      "name": "python"
    }
  },
  "cells": [
    {
      "cell_type": "code",
      "execution_count": 1,
      "metadata": {
        "id": "p_9OPwYmSAg9"
      },
      "outputs": [],
      "source": [
        "#bigger files are written in chunk\n",
        "import io "
      ]
    },
    {
      "cell_type": "code",
      "source": [],
      "metadata": {
        "id": "y-iS9biyUkr9"
      },
      "execution_count": null,
      "outputs": []
    },
    {
      "cell_type": "code",
      "source": [
        "with open('test1.txt','wb') as f: \n",
        "  file= io.BufferedWriter(f) #open a file and write everything in buffered mode\n",
        "  file.write(b'this is my first line \\n')\n",
        "  file.write(b'this is my second line ') \n",
        "  file.flush() #to close the file, unless it will not be shown "
      ],
      "metadata": {
        "id": "XQJmb8oXTPH0"
      },
      "execution_count": 5,
      "outputs": []
    },
    {
      "cell_type": "code",
      "source": [
        "with open('test1.txt','rb') as f: \n",
        "  file = io.BufferedReader(f) \n",
        "  data= file.read(10) #size to be read can be defined \n",
        "  print(data) "
      ],
      "metadata": {
        "colab": {
          "base_uri": "https://localhost:8080/"
        },
        "id": "HSEtHPZdUmvZ",
        "outputId": "1789c529-c95f-457f-acf2-3056509ca7f9"
      },
      "execution_count": 7,
      "outputs": [
        {
          "output_type": "stream",
          "name": "stdout",
          "text": [
            "b'this is my'\n"
          ]
        }
      ]
    }
  ]
}