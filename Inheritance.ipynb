{
  "nbformat": 4,
  "nbformat_minor": 0,
  "metadata": {
    "colab": {
      "provenance": []
    },
    "kernelspec": {
      "name": "python3",
      "display_name": "Python 3"
    },
    "language_info": {
      "name": "python"
    }
  },
  "cells": [
    {
      "cell_type": "code",
      "execution_count": 1,
      "metadata": {
        "id": "GQa30chC-z6h"
      },
      "outputs": [],
      "source": [
        "class test: \n",
        "  def test_meth(self): \n",
        "    return 'this is my first class'"
      ]
    },
    {
      "cell_type": "code",
      "source": [
        "class child_test(test):\n",
        "  pass \n"
      ],
      "metadata": {
        "id": "0t3mEJS7JnuL"
      },
      "execution_count": 2,
      "outputs": []
    },
    {
      "cell_type": "code",
      "source": [
        "child_class_obj= child_test()"
      ],
      "metadata": {
        "id": "ntUmemW8JuXF"
      },
      "execution_count": 3,
      "outputs": []
    },
    {
      "cell_type": "code",
      "source": [
        "child_class_obj.test_meth()"
      ],
      "metadata": {
        "colab": {
          "base_uri": "https://localhost:8080/",
          "height": 35
        },
        "id": "hyw2611hJ1RX",
        "outputId": "12a66106-4ce0-4366-d774-f84edfaa7e7e"
      },
      "execution_count": 4,
      "outputs": [
        {
          "output_type": "execute_result",
          "data": {
            "text/plain": [
              "'this is my first class'"
            ],
            "application/vnd.google.colaboratory.intrinsic+json": {
              "type": "string"
            }
          },
          "metadata": {},
          "execution_count": 4
        }
      ]
    },
    {
      "cell_type": "code",
      "source": [
        "#multilevel inheritance\n",
        "class class1: \n",
        "\n",
        "  def test_class1(self): \n",
        "    return \"this is a method from class1\""
      ],
      "metadata": {
        "id": "vMxXR6KoNXem"
      },
      "execution_count": 5,
      "outputs": []
    },
    {
      "cell_type": "code",
      "source": [
        "\n",
        " #everything present in class1 gets inherited to class2 by putting it into a bracket here\n",
        "class class2(class1):\n",
        "\n",
        "  def test_class2(self): \n",
        "    return 'this is a method from class2' #class2 inherits class1\n",
        "\n",
        "\n",
        "\n"
      ],
      "metadata": {
        "id": "4SQyHEzQOLv4"
      },
      "execution_count": 7,
      "outputs": []
    },
    {
      "cell_type": "code",
      "source": [
        "class class3(class2): \n",
        "  pass"
      ],
      "metadata": {
        "id": "e6Lz2mAiOrYk"
      },
      "execution_count": 8,
      "outputs": []
    },
    {
      "cell_type": "code",
      "source": [
        "#object of class3\n",
        "obj_class3= class3()\n"
      ],
      "metadata": {
        "id": "IjTBgxXoO4cz"
      },
      "execution_count": 9,
      "outputs": []
    },
    {
      "cell_type": "code",
      "source": [
        "obj_class3.test_class1()"
      ],
      "metadata": {
        "colab": {
          "base_uri": "https://localhost:8080/",
          "height": 35
        },
        "id": "TNbQDWQUPCUS",
        "outputId": "21ac158e-4881-43e1-ddd6-72c482342c2b"
      },
      "execution_count": 10,
      "outputs": [
        {
          "output_type": "execute_result",
          "data": {
            "text/plain": [
              "'this is a method from class1'"
            ],
            "application/vnd.google.colaboratory.intrinsic+json": {
              "type": "string"
            }
          },
          "metadata": {},
          "execution_count": 10
        }
      ]
    },
    {
      "cell_type": "code",
      "source": [
        "obj_class3.test_class2()"
      ],
      "metadata": {
        "colab": {
          "base_uri": "https://localhost:8080/",
          "height": 35
        },
        "id": "xUtIHBdZPJNK",
        "outputId": "b0a2e8a4-dd79-4e67-ffae-c4118f7fe9be"
      },
      "execution_count": 11,
      "outputs": [
        {
          "output_type": "execute_result",
          "data": {
            "text/plain": [
              "'this is a method from class2'"
            ],
            "application/vnd.google.colaboratory.intrinsic+json": {
              "type": "string"
            }
          },
          "metadata": {},
          "execution_count": 11
        }
      ]
    },
    {
      "cell_type": "code",
      "source": [],
      "metadata": {
        "id": "0fwsdRUwPSXC"
      },
      "execution_count": null,
      "outputs": []
    },
    {
      "cell_type": "markdown",
      "source": [
        "Multiple inheritance\n"
      ],
      "metadata": {
        "id": "lL1pTzt1P0YI"
      }
    },
    {
      "cell_type": "code",
      "source": [
        "#a single class inherited from multiple classes "
      ],
      "metadata": {
        "id": "LSCSP52eP3Pr"
      },
      "execution_count": 12,
      "outputs": []
    },
    {
      "cell_type": "code",
      "source": [
        "class class1: \n",
        "  def test_class1(self): \n",
        "    return 'this is class 1'"
      ],
      "metadata": {
        "id": "KOw3tv7DP3ap"
      },
      "execution_count": 13,
      "outputs": []
    },
    {
      "cell_type": "code",
      "source": [
        "class class2: \n",
        "  def test_class2(self): \n",
        "    return 'this is class 2'"
      ],
      "metadata": {
        "id": "VSkZIyCtQaFW"
      },
      "execution_count": 14,
      "outputs": []
    },
    {
      "cell_type": "code",
      "source": [
        "class class3(class1, class2): \n",
        "  pass"
      ],
      "metadata": {
        "id": "S9fRnMvjQhYV"
      },
      "execution_count": 15,
      "outputs": []
    },
    {
      "cell_type": "code",
      "source": [
        "obj_class3= class3()"
      ],
      "metadata": {
        "id": "0OyIo7IZQqPf"
      },
      "execution_count": 16,
      "outputs": []
    },
    {
      "cell_type": "code",
      "source": [],
      "metadata": {
        "id": "1Jh2Rx7YQ3Jm"
      },
      "execution_count": null,
      "outputs": []
    }
  ]
}