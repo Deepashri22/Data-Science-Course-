{
  "nbformat": 4,
  "nbformat_minor": 0,
  "metadata": {
    "colab": {
      "provenance": []
    },
    "kernelspec": {
      "name": "python3",
      "display_name": "Python 3"
    },
    "language_info": {
      "name": "python"
    }
  },
  "cells": [
    {
      "cell_type": "code",
      "execution_count": 1,
      "metadata": {
        "id": "tUExy_g_YsIO"
      },
      "outputs": [],
      "source": [
        "def test(a,b): \n",
        "  return a+b "
      ]
    },
    {
      "cell_type": "code",
      "source": [
        "test(3,4)"
      ],
      "metadata": {
        "colab": {
          "base_uri": "https://localhost:8080/"
        },
        "id": "bOiyZ-EPeOsd",
        "outputId": "4acaf6c6-98d5-4e1a-e33b-56a6ad83eefe"
      },
      "execution_count": 2,
      "outputs": [
        {
          "output_type": "execute_result",
          "data": {
            "text/plain": [
              "7"
            ]
          },
          "metadata": {},
          "execution_count": 2
        }
      ]
    },
    {
      "cell_type": "code",
      "source": [
        "test('sudh','kumar') #concatenation in the same function"
      ],
      "metadata": {
        "colab": {
          "base_uri": "https://localhost:8080/",
          "height": 35
        },
        "id": "9RAOqC95eQt-",
        "outputId": "48137210-2649-4206-d0b5-1fa0b53555ab"
      },
      "execution_count": 4,
      "outputs": [
        {
          "output_type": "execute_result",
          "data": {
            "text/plain": [
              "'sudhkumar'"
            ],
            "application/vnd.google.colaboratory.intrinsic+json": {
              "type": "string"
            }
          },
          "metadata": {},
          "execution_count": 4
        }
      ]
    },
    {
      "cell_type": "code",
      "source": [
        "#the function does not change but its role changes with different input values poly-multiple\n",
        "#Polymorphism- an entity showing multiple behaviors"
      ],
      "metadata": {
        "id": "8G0av6zSeaLY"
      },
      "execution_count": 5,
      "outputs": []
    },
    {
      "cell_type": "code",
      "source": [
        "class data_science: \n",
        "\n",
        "  def syllabus(self): \n",
        "    print('this is my syllabus for data science masters')"
      ],
      "metadata": {
        "id": "zPwC8SC6e9Sw"
      },
      "execution_count": 6,
      "outputs": []
    },
    {
      "cell_type": "code",
      "source": [
        "class web_dev: \n",
        "\n",
        "  def syllabus(self): \n",
        "    print('this is my syllabus for web dev class')"
      ],
      "metadata": {
        "id": "niHaY9k_fR1S"
      },
      "execution_count": 7,
      "outputs": []
    },
    {
      "cell_type": "code",
      "source": [
        "def class_parcer(class_object): \n",
        "  for i in class_object: \n",
        "    i.syllabus()"
      ],
      "metadata": {
        "id": "LltlOYZOfc_I"
      },
      "execution_count": 8,
      "outputs": []
    },
    {
      "cell_type": "code",
      "source": [
        "data_science=data_science()"
      ],
      "metadata": {
        "id": "zlEXRuX6ftzZ"
      },
      "execution_count": 9,
      "outputs": []
    },
    {
      "cell_type": "code",
      "source": [
        "web_dev= web_dev()"
      ],
      "metadata": {
        "id": "nyOCpvqXfx-z"
      },
      "execution_count": 11,
      "outputs": []
    },
    {
      "cell_type": "code",
      "source": [
        "class_object= [data_science, web_dev] #input as a list and then it parcers it "
      ],
      "metadata": {
        "id": "g5pmlxUBf3UD"
      },
      "execution_count": 15,
      "outputs": []
    },
    {
      "cell_type": "code",
      "source": [
        "class_parcer(class_object) #it works according to the class object passed and executes it exactly"
      ],
      "metadata": {
        "colab": {
          "base_uri": "https://localhost:8080/"
        },
        "id": "tZr43rjPgCVt",
        "outputId": "0c4b0687-52ed-4fa5-9322-c046b75e8508"
      },
      "execution_count": 16,
      "outputs": [
        {
          "output_type": "stream",
          "name": "stdout",
          "text": [
            "this is my syllabus for data science masters\n",
            "this is my syllabus for web dev class\n"
          ]
        }
      ]
    },
    {
      "cell_type": "code",
      "source": [
        "#polymorphism- different behavior of an entity in different contexts"
      ],
      "metadata": {
        "id": "F2NwWGbCg33v"
      },
      "execution_count": 17,
      "outputs": []
    }
  ]
}