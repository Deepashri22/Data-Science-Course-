{
  "nbformat": 4,
  "nbformat_minor": 0,
  "metadata": {
    "colab": {
      "provenance": []
    },
    "kernelspec": {
      "name": "python3",
      "display_name": "Python 3"
    },
    "language_info": {
      "name": "python"
    }
  },
  "cells": [
    {
      "cell_type": "code",
      "execution_count": 1,
      "metadata": {
        "id": "2Mn1dxFNR1Zo"
      },
      "outputs": [],
      "source": [
        "def test():\n",
        "  print('start of the function')\n",
        "  print('function to test')\n",
        "  print(4+5)\n",
        "  print('end of the function')"
      ]
    },
    {
      "cell_type": "code",
      "source": [
        "test()"
      ],
      "metadata": {
        "colab": {
          "base_uri": "https://localhost:8080/"
        },
        "id": "9IqVLszfZZUL",
        "outputId": "70c1399a-f67c-4072-ea40-c9fb4c1898d3"
      },
      "execution_count": 2,
      "outputs": [
        {
          "output_type": "stream",
          "name": "stdout",
          "text": [
            "start of the function\n",
            "function to test\n",
            "9\n",
            "end of the function\n"
          ]
        }
      ]
    },
    {
      "cell_type": "code",
      "source": [
        "#decorator function\n",
        "def deco(func): \n",
        "  def inner_dec(): \n",
        "    print('this is the start of my function') \n",
        "    func()\n",
        "    print('end of the function')\n",
        "  return inner_dec \n"
      ],
      "metadata": {
        "id": "FyypOFxNrlyu"
      },
      "execution_count": 6,
      "outputs": []
    },
    {
      "cell_type": "code",
      "source": [
        "@deco #calling the decorator function\n",
        "def test1(): \n",
        "  print(6+7)"
      ],
      "metadata": {
        "id": "cRHLsAh8sIQY"
      },
      "execution_count": 7,
      "outputs": []
    },
    {
      "cell_type": "code",
      "source": [
        "test1()"
      ],
      "metadata": {
        "colab": {
          "base_uri": "https://localhost:8080/"
        },
        "id": "gt0HwY0xsQcU",
        "outputId": "9e3d64d3-2869-4372-c595-f7b4f2301251"
      },
      "execution_count": 8,
      "outputs": [
        {
          "output_type": "stream",
          "name": "stdout",
          "text": [
            "this is the start of my function\n",
            "13\n",
            "end of the function\n"
          ]
        }
      ]
    },
    {
      "cell_type": "code",
      "source": [
        "import time  #calculating the time complexity of a function\n",
        "\n",
        "def timer_test(func): \n",
        "  def timer_test_inner(): \n",
        "    start= time.time() \n",
        "    func()\n",
        "    end= time.time()\n",
        "    print(end-start)\n",
        "  return timer_test_inner \n",
        "    "
      ],
      "metadata": {
        "id": "0iLuexs4sSwV"
      },
      "execution_count": 9,
      "outputs": []
    },
    {
      "cell_type": "code",
      "source": [
        "def test2(): \n",
        "  print(45+78) "
      ],
      "metadata": {
        "id": "j0SsmHk9t1YF"
      },
      "execution_count": 10,
      "outputs": []
    },
    {
      "cell_type": "code",
      "source": [
        "test2()"
      ],
      "metadata": {
        "colab": {
          "base_uri": "https://localhost:8080/"
        },
        "id": "LQ8vbWQwt8cw",
        "outputId": "7f80b990-0887-41ba-9bef-1736deda27c1"
      },
      "execution_count": 11,
      "outputs": [
        {
          "output_type": "stream",
          "name": "stdout",
          "text": [
            "123\n"
          ]
        }
      ]
    },
    {
      "cell_type": "code",
      "source": [
        "@timer_test\n",
        "def test2(): \n",
        "  print(2344345346+6654646)"
      ],
      "metadata": {
        "id": "l7OQSdHQuCLW"
      },
      "execution_count": 12,
      "outputs": []
    },
    {
      "cell_type": "code",
      "source": [
        "test2()"
      ],
      "metadata": {
        "colab": {
          "base_uri": "https://localhost:8080/"
        },
        "id": "QRXx4KAmuL2P",
        "outputId": "dd6d7096-e9f3-41e9-8c80-a355a18927b3"
      },
      "execution_count": 13,
      "outputs": [
        {
          "output_type": "stream",
          "name": "stdout",
          "text": [
            "2350999992\n",
            "0.0010833740234375\n"
          ]
        }
      ]
    },
    {
      "cell_type": "code",
      "source": [
        "@timer_test\n",
        "def test3(): \n",
        "  for i in range(100000000): \n",
        "    pass"
      ],
      "metadata": {
        "id": "idiCAbTPuajy"
      },
      "execution_count": 15,
      "outputs": []
    },
    {
      "cell_type": "code",
      "source": [
        "test3()"
      ],
      "metadata": {
        "colab": {
          "base_uri": "https://localhost:8080/"
        },
        "id": "8_FqFUPYuhqi",
        "outputId": "1bbc1421-2882-4e56-9d33-8fa4a134a7e4"
      },
      "execution_count": 16,
      "outputs": [
        {
          "output_type": "stream",
          "name": "stdout",
          "text": [
            "2.7078044414520264\n"
          ]
        }
      ]
    },
    {
      "cell_type": "code",
      "source": [
        "#decorator function decorates the functions, very useful"
      ],
      "metadata": {
        "id": "c-JNVeB9utSy"
      },
      "execution_count": 17,
      "outputs": []
    }
  ]
}