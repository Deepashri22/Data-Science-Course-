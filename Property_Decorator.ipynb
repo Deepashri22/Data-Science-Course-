{
  "nbformat": 4,
  "nbformat_minor": 0,
  "metadata": {
    "colab": {
      "provenance": []
    },
    "kernelspec": {
      "name": "python3",
      "display_name": "Python 3"
    },
    "language_info": {
      "name": "python"
    }
  },
  "cells": [
    {
      "cell_type": "code",
      "source": [
        "class pride: \n",
        "\n",
        "  def __init__(self, course_price, course_name): \n",
        "    self.__course_price=course_price \n",
        "    self.course_name= course_name\n",
        "\n",
        "  @property #decorator property\n",
        "  def course_price_access(self): \n",
        "    return self.__course_price #the encapsulated function gets exposed to the user because of this function, but not directly\n",
        "\n",
        "  @course_price_access.setter #user can set the price through this function, giving access to modify \n",
        "  def course_price_set(self,price): \n",
        "    if price<=3500: \n",
        "      pass \n",
        "    else:\n",
        "      self.__course_price=price \n",
        "  \n",
        "  #giving access to delete the encapsulated function \n",
        "  @course_price_access.deleter #function available in the property decorator \n",
        "  def delete_course_price(self): \n",
        "    del self.__course_price #will help the external user in deleting "
      ],
      "metadata": {
        "id": "sxxtRFw9fsrq"
      },
      "execution_count": 15,
      "outputs": []
    },
    {
      "cell_type": "code",
      "source": [
        "pw= pride(3500,'dcs')"
      ],
      "metadata": {
        "id": "ydPi86zUAoWv"
      },
      "execution_count": 17,
      "outputs": []
    },
    {
      "cell_type": "code",
      "source": [
        "pw.course_price_access"
      ],
      "metadata": {
        "colab": {
          "base_uri": "https://localhost:8080/"
        },
        "id": "xmvDa-E5zPKK",
        "outputId": "decb6152-645a-445f-cf80-1d1d0b42ba92"
      },
      "execution_count": 18,
      "outputs": [
        {
          "output_type": "execute_result",
          "data": {
            "text/plain": [
              "3500"
            ]
          },
          "metadata": {},
          "execution_count": 18
        }
      ]
    },
    {
      "cell_type": "code",
      "source": [
        "del pw.delete_course_price"
      ],
      "metadata": {
        "id": "RNvTHRsGzRTX"
      },
      "execution_count": 19,
      "outputs": []
    },
    {
      "cell_type": "code",
      "source": [
        "pw.course_price_access"
      ],
      "metadata": {
        "colab": {
          "base_uri": "https://localhost:8080/",
          "height": 287
        },
        "id": "a8DxFZmQzy9B",
        "outputId": "98c314ac-c444-4d0b-eb39-7c4d11ca68e6"
      },
      "execution_count": 20,
      "outputs": [
        {
          "output_type": "error",
          "ename": "AttributeError",
          "evalue": "ignored",
          "traceback": [
            "\u001b[0;31m---------------------------------------------------------------------------\u001b[0m",
            "\u001b[0;31mAttributeError\u001b[0m                            Traceback (most recent call last)",
            "\u001b[0;32m<ipython-input-20-605ce0d9a072>\u001b[0m in \u001b[0;36m<module>\u001b[0;34m\u001b[0m\n\u001b[0;32m----> 1\u001b[0;31m \u001b[0mpw\u001b[0m\u001b[0;34m.\u001b[0m\u001b[0mcourse_price_access\u001b[0m\u001b[0;34m\u001b[0m\u001b[0;34m\u001b[0m\u001b[0m\n\u001b[0m",
            "\u001b[0;32m<ipython-input-15-76c38f30763b>\u001b[0m in \u001b[0;36mcourse_price_access\u001b[0;34m(self)\u001b[0m\n\u001b[1;32m      7\u001b[0m   \u001b[0;34m@\u001b[0m\u001b[0mproperty\u001b[0m \u001b[0;31m#decorator property\u001b[0m\u001b[0;34m\u001b[0m\u001b[0;34m\u001b[0m\u001b[0m\n\u001b[1;32m      8\u001b[0m   \u001b[0;32mdef\u001b[0m \u001b[0mcourse_price_access\u001b[0m\u001b[0;34m(\u001b[0m\u001b[0mself\u001b[0m\u001b[0;34m)\u001b[0m\u001b[0;34m:\u001b[0m\u001b[0;34m\u001b[0m\u001b[0;34m\u001b[0m\u001b[0m\n\u001b[0;32m----> 9\u001b[0;31m     \u001b[0;32mreturn\u001b[0m \u001b[0mself\u001b[0m\u001b[0;34m.\u001b[0m\u001b[0m__course_price\u001b[0m \u001b[0;31m#the encapsulated function gets exposed to the user because of this function, but not directly\u001b[0m\u001b[0;34m\u001b[0m\u001b[0;34m\u001b[0m\u001b[0m\n\u001b[0m\u001b[1;32m     10\u001b[0m \u001b[0;34m\u001b[0m\u001b[0m\n\u001b[1;32m     11\u001b[0m   \u001b[0;34m@\u001b[0m\u001b[0mcourse_price_access\u001b[0m\u001b[0;34m.\u001b[0m\u001b[0msetter\u001b[0m \u001b[0;31m#user can set the price through this function, giving access to modify\u001b[0m\u001b[0;34m\u001b[0m\u001b[0;34m\u001b[0m\u001b[0m\n",
            "\u001b[0;31mAttributeError\u001b[0m: 'pride' object has no attribute '_pride__course_price'"
          ]
        }
      ]
    },
    {
      "cell_type": "code",
      "source": [
        "a.course_price_access"
      ],
      "metadata": {
        "colab": {
          "base_uri": "https://localhost:8080/"
        },
        "id": "Fyk4b8MExrYG",
        "outputId": "08e47ac9-d15d-4fd9-c140-13839a293f75"
      },
      "execution_count": 6,
      "outputs": [
        {
          "output_type": "execute_result",
          "data": {
            "text/plain": [
              "3500"
            ]
          },
          "metadata": {},
          "execution_count": 6
        }
      ]
    },
    {
      "cell_type": "code",
      "source": [
        "a.course_price_set=4500"
      ],
      "metadata": {
        "id": "J3PMY3o4yZDi"
      },
      "execution_count": 8,
      "outputs": []
    },
    {
      "cell_type": "code",
      "source": [
        "a.course_price_access"
      ],
      "metadata": {
        "colab": {
          "base_uri": "https://localhost:8080/"
        },
        "id": "p2jXANI8yjQi",
        "outputId": "f3aa6cf7-0ae7-45ab-8e36-a66fa8f1c59d"
      },
      "execution_count": 9,
      "outputs": [
        {
          "output_type": "execute_result",
          "data": {
            "text/plain": [
              "3500"
            ]
          },
          "metadata": {},
          "execution_count": 9
        }
      ]
    },
    {
      "cell_type": "code",
      "source": [
        "a._pride__course_price"
      ],
      "metadata": {
        "colab": {
          "base_uri": "https://localhost:8080/"
        },
        "id": "UOwZJMoYA1gv",
        "outputId": "fbf59625-3a63-4b36-bbb5-ed3ec096e574"
      },
      "execution_count": 3,
      "outputs": [
        {
          "output_type": "execute_result",
          "data": {
            "text/plain": [
              "3500"
            ]
          },
          "metadata": {},
          "execution_count": 3
        }
      ]
    },
    {
      "cell_type": "markdown",
      "source": [
        "how to give the access of the encapsulated function to the user for modifying and deleting through it "
      ],
      "metadata": {
        "id": "8SEIGYeSw5NL"
      }
    }
  ]
}